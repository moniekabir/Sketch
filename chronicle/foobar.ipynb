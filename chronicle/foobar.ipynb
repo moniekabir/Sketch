{
 "cells": [
  {
   "cell_type": "code",
   "execution_count": null,
   "id": "initial_id",
   "metadata": {
    "collapsed": true
   },
   "outputs": [],
   "source": [
    "lambdas, p, t = '2', [2], 0\n",
    "\n",
    "for n in range(3, 1000000):\n",
    "    if n == p[t] ** 2:\n",
    "        t += 1\n",
    "\n",
    "    if not all(n % j for j in p[:t]) == 0:\n",
    "        p.append(n)\n",
    "        if len(lambdas) <= 10000:\n",
    "            lambdas += str(n)\n",
    "\n",
    "\n",
    "def solution(i):\n",
    "    return lambdas[i: i + 5]"
   ]
  }
 ],
 "metadata": {
  "kernelspec": {
   "display_name": "Python 3",
   "language": "python",
   "name": "python3"
  },
  "language_info": {
   "codemirror_mode": {
    "name": "ipython",
    "version": 2
   },
   "file_extension": ".py",
   "mimetype": "text/x-python",
   "name": "python",
   "nbconvert_exporter": "python",
   "pygments_lexer": "ipython2",
   "version": "2.7.6"
  }
 },
 "nbformat": 4,
 "nbformat_minor": 5
}
