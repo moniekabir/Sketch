{
 "cells": [
  {
   "cell_type": "markdown",
   "source": [
    "i dont know if its worth mentioning but how this number aggregates to create - - , + +, - + , in a way is so much intresting to me"
   ],
   "metadata": {
    "collapsed": false
   },
   "id": "f6bdadf8682da664"
  },
  {
   "cell_type": "markdown",
   "source": [
    "i think there is a nice correlation with integer factorization and natural branching and centraliziation, you know\n",
    "that's the problem, because its easy branching and its even clear in if model, but the fact that its hard to aggregate those all information is because we dont know how to factor this information, i dont know it might odesnt make sense\n",
    "but i know that how this numbers work give us a lotof new inforamtion, maybe our interaction with analysis\n",
    "we might learn how to effictively merge branches we create i saw it in machine learning\n",
    "the fact that llm are susscefull is that we aggregate and merged a huge data together, so then this transfare learning doesnt letus improve it the natural way, it still goes as rebranching, but if we dont merge them agian we havent learn new things as we should\n",
    "\n",
    "so that means how smart we are doesnt matter, i learned it from iq tests, and machine learnings\n",
    "actually we are not able to solve patterns we never seens before, and thats doesnt mean we are not smart\n",
    "we are only doesnt smart if that doesnt hurt us and we dont look for unknown\n",
    "it might be really hard to understand a pattern we dont recognize but if we open the question and keep it in our mind\n",
    "we will finally able to solve the problem, the reason for that is , doesnt matter how we try if we dont know a problem\n",
    "and we doesnt have data that help us to solve the problem we are in a false iteration, we never get the answer\n",
    "it only works if we gather new information, and if and only if we gather the right information we are able to solve the problem\n",
    "and i think thats the case with factorization problem\n",
    "i am so wondered why such a simple problem remained unsolved for all of these years, the answer was clear actually i discussed it above\n",
    "but there is one more things, right information, we might now massive math information, but they are not going to work with if, the reason is if is a simple aggregation and matrix problem, and it comes from two dimension, but it also need you to have a really good undesrtanding of many others topic that are nessessary not math, so then you might be able to solve it"
   ],
   "metadata": {
    "collapsed": false
   },
   "id": "93a8a64fe358efb3"
  },
  {
   "cell_type": "markdown",
   "source": [
    "\"i can use the power of two condition, to check if there is an specefic relationship in a[earing nonprimes in a certain way that repeated in general.\\n\",\n",
    "    \"check triangle matrix to see it can be genreralized.\\n\",\n",
    "    \"\\n\",\n",
    "    \"it seems priam numbers follow the ucertainty pricniple in quantum mechanics, but i think both are mistakes, eevn proofed, but classical phiscs also have proof, untill we discover something new..\\n\","
   ],
   "metadata": {
    "collapsed": false
   },
   "id": "281df32f3ab2f886"
  },
  {
   "cell_type": "markdown",
   "source": [
    "import math\n",
    "\n",
    "# # p, m = [2], 0\n",
    "# #\n",
    "# # for n in range(3, 1000000):\n",
    "# #     if n == p[m] ** 2:\n",
    "# #         m += 1\n",
    "# #     if not all(n % j for j in p[:m]) == 0:\n",
    "# #         p.append(n)\n",
    "\n",
    "# from math import sqrt\n",
    "#\n",
    "# # n is the number to be check whether it is prime or not\n",
    "# n = 1763\n",
    "#\n",
    "# # this flag maintains status whether the n is prime or not\n",
    "# prime_flag = 0\n",
    "#\n",
    "# if (n > 1):\n",
    "#     for i in range(2, int(sqrt(n)) + 1):\n",
    "#         if (n % i == 0):\n",
    "#             prime_flag = 1\n",
    "#             break\n",
    "#     if (prime_flag == 0):\n",
    "#         print(\"True\")\n",
    "#     else:\n",
    "#         print(\"False\")\n",
    "# else:\n",
    "#     print(\"False\")\n",
    "\n",
    "\n",
    "n = 5\n",
    "m = 7\n",
    "g1 = [5]\n",
    "g2 = [7]\n",
    "# m = -5\n",
    "# n = -1\n",
    "# g1 = []\n",
    "# g2 = []\n",
    "\n",
    "while n <= 3000:\n",
    "    n += 6\n",
    "    m += 6\n",
    "    g1.append(n)\n",
    "    g2.append(m)\n",
    "\n",
    "\n",
    "for n, m in zip(g1, g2):\n",
    "    print(n, \":\", \"{:.20f}\".format(n / 6), m, \"{:.20f}\".format(m / 6), sep=\"\\t\")\n",
    "\n",
    "print(4.16666666666666696273 / 0.16666666666666696273)\n",
    "print(1/6)\n",
    "\n",
    "\n",
    "# for x in [5, 7, 11, 13, 17, 19, 23, 29, 31, 37, 41, 43, 47, 53, 59]:\n",
    "#     for n in range(33):\n",
    "#         sample = x * (x + 6 * n)\n",
    "#         print(sample)\n",
    "\n",
    "\n",
    "\"\"\"\n",
    "in last setion we used 5 and 7 to create prime faimly, but what if we only use 7 and see what relationship is between the 5 family with 7s, then we might new ideas.\n",
    "\n",
    "lets also consider base 6 or 5 or 7\n",
    "\"\"\"\n",
    "\n",
    "\n",
    "\n",
    "\n",
    "\n",
    "\n",
    "\n",
    "\n",
    "\n",
    "In 2020, researchers factorised this number using a classical supercomputer and ~2700 core-years\n",
    "Conventional computer chips are often made from processors called \"cores\". A core-year is the equivalent of using one of these cores continuously for a year. For reference, a modern laptops have around 2-4 cores. The meaning of this number depends on how powerful the core is, but this should give you a rough idea of the computing power involved.\n",
    "\n",
    "of processing power. This was a large effort, and record breaking at the time of writing. We can verify their results in the code cell below (fortunately, we do have efficient algorithms for multiplication!):\n",
    "\n",
    "\n",
    "x = 2140324650240744961264423072839333563008614715144755017797754920881418023447140136643345519095804679610992851872470914587687396261921557363047454770520805119056493106687691590019759405693457452230589325976697471681738069364894699871578494975937497937\n",
    "\n",
    "p = 64135289477071580278790190170577389084825014742943447208116859632024532344630238623598752668347708737661925585694639798853367\n",
    "q = 33372027594978156556226010605355114227940760344767554666784520987023841729210037080257448673296881877565718986258036932062711\n",
    "\n",
    "p*q == x  # Evaluates to 'True'\n",
    "\n",
    "\n",
    "\n",
    "The output shown is the value of the last line of the cell. In this case we can see that p*q == x evaluates to True. Although not mathematically proven, we're pretty sure there’s no efficient algorithm for factoring such numbers on traditional computers. In fact, much of the internet’s encryption relies on the assumption that this problem is intractable, and that factoring a 617-digit RSA\n",
    "RSA numbers are numbers taken from the RSA factoring challenge. These numbers are intentionally chosen to be difficult to factor.\n",
    "\n",
    "'RSA' are the initials of three of the people that invented the protocol that uses these large numbers to encrypt information.\n",
    "\n",
    "number is impossible. In contrast, we know of efficient factoring algorithms for quantum computers that, once we have big enough quantum computers, we estimate could factorise these numbers in under a day.\n",
    "\n",
    "\n",
    "\n",
    "In this string of digits, each digit represents how many times the number contains a certain power\n",
    "See exponentiation\n",
    "\n",
    "of ten. For example, when we write 213, we mean"
   ],
   "metadata": {
    "collapsed": false
   },
   "id": "c85b8dbed63dd9f7"
  },
  {
   "cell_type": "code",
   "execution_count": 34,
   "outputs": [],
   "source": [
    "x = 2140324650240744961264423072839333563008614715144755017797754920881418023447140136643345519095804679610992851872470914587687396261921557363047454770520805119056493106687691590019759405693457452230589325976697471681738069364894699871578494975937497937\n",
    "\n",
    "p = 64135289477071580278790190170577389084825014742943447208116859632024532344630238623598752668347708737661925585694639798853367\n",
    "\n",
    "q = 33372027594978156556226010605355114227940760344767554666784520987023841729210037080257448673296881877565718986258036932062711"
   ],
   "metadata": {
    "collapsed": false,
    "ExecuteTime": {
     "end_time": "2023-08-29T10:40:01.791850800Z",
     "start_time": "2023-08-29T10:40:01.772853700Z"
    }
   },
   "id": "905cd43985ad26e4"
  },
  {
   "cell_type": "code",
   "execution_count": 35,
   "outputs": [
    {
     "name": "stdout",
     "output_type": "stream",
     "text": [
      "6.413528947707158e+124\n"
     ]
    }
   ],
   "source": [
    "print(x / q )"
   ],
   "metadata": {
    "collapsed": false,
    "ExecuteTime": {
     "end_time": "2023-08-29T10:40:02.176683800Z",
     "start_time": "2023-08-29T10:40:02.166691100Z"
    }
   },
   "id": "b00aa8cd49825dfe"
  },
  {
   "cell_type": "code",
   "execution_count": 39,
   "outputs": [
    {
     "name": "stdout",
     "output_type": "stream",
     "text": [
      "True\n"
     ]
    }
   ],
   "source": [
    "print((x // p) == q)"
   ],
   "metadata": {
    "collapsed": false,
    "ExecuteTime": {
     "end_time": "2023-08-29T10:41:33.258672100Z",
     "start_time": "2023-08-29T10:41:33.235517400Z"
    }
   },
   "id": "9dcd5fc057f5744f"
  },
  {
   "cell_type": "code",
   "execution_count": 38,
   "outputs": [
    {
     "name": "stdout",
     "output_type": "stream",
     "text": [
      "True\n"
     ]
    }
   ],
   "source": [
    "print((p * q) == x)"
   ],
   "metadata": {
    "collapsed": false,
    "ExecuteTime": {
     "end_time": "2023-08-29T10:41:16.904524800Z",
     "start_time": "2023-08-29T10:41:16.860543900Z"
    }
   },
   "id": "8187a4a0281a2627"
  },
  {
   "cell_type": "code",
   "execution_count": 40,
   "outputs": [
    {
     "name": "stdout",
     "output_type": "stream",
     "text": [
      "356720775040124160210737178806555593834769119190792502966292486813569670574523356107224253182634113268498808645411819097947899376986926227174575795086800853176082184447948598336626567615576242038431554329449578613623011560815783311929749162656249656 356720775040124160210737178806555593834769119190792502966292486813569670574523356107224253182634113268498808645411819097947899376986926227174575795086800853176082184447948598336626567615576242038431554329449578613623011560815783311929749162656249656\n"
     ]
    }
   ],
   "source": [
    "print((x + 1) // 6, (x - 1) // 6 )"
   ],
   "metadata": {
    "collapsed": false,
    "ExecuteTime": {
     "end_time": "2023-08-29T10:42:17.838679200Z",
     "start_time": "2023-08-29T10:42:17.806161200Z"
    }
   },
   "id": "2e6ac402ca7093ae"
  },
  {
   "cell_type": "code",
   "execution_count": 45,
   "outputs": [],
   "source": [
    "t = 356720775040124160210737178806555593834769119190792502966292486813569670574523356107224253182634113268498808645411819097947899376986926227174575795086800853176082184447948598336626567615576242038431554329449578613623011560815783311929749162656249656\n",
    "\n",
    "e = 356720775040124160210737178806555593834769119190792502966292486813569670574523356107224253182634113268498808645411819097947899376986926227174575795086800853176082184447948598336626567615576242038431554329449578613623011560815783311929749162656249656\n",
    "\n",
    "k = e * 6"
   ],
   "metadata": {
    "collapsed": false,
    "ExecuteTime": {
     "end_time": "2023-08-29T10:51:06.641228400Z",
     "start_time": "2023-08-29T10:51:06.627244Z"
    }
   },
   "id": "83a151a6d3a3c96f"
  },
  {
   "cell_type": "code",
   "execution_count": 46,
   "outputs": [
    {
     "name": "stdout",
     "output_type": "stream",
     "text": [
      "True\n"
     ]
    }
   ],
   "source": [
    "x = 2140324650240744961264423072839333563008614715144755017797754920881418023447140136643345519095804679610992851872470914587687396261921557363047454770520805119056493106687691590019759405693457452230589325976697471681738069364894699871578494975937497937\n",
    "print(k + 1 == x)"
   ],
   "metadata": {
    "collapsed": false,
    "ExecuteTime": {
     "end_time": "2023-08-29T10:51:08.835929400Z",
     "start_time": "2023-08-29T10:51:08.804891700Z"
    }
   },
   "id": "b512d391bf1d3ffb"
  },
  {
   "cell_type": "code",
   "execution_count": 50,
   "outputs": [
    {
     "name": "stdout",
     "output_type": "stream",
     "text": [
      "[5, 11, 17, 23, 29, 35, 41, 47, 53, 59, 65, 71, 77, 83, 89, 95, 101, 107, 113, 119, 125, 131, 137, 143, 149, 155, 161, 167, 173, 179, 185, 191, 197, 203, 209, 215, 221, 227, 233, 239, 245, 251, 257, 263, 269, 275, 281, 287, 293, 299, 305, 311, 317, 323, 329, 335, 341, 347, 353, 359, 365, 371, 377, 383, 389, 395, 401, 407, 413, 419, 425, 431, 437] 73\n"
     ]
    }
   ],
   "source": [
    "inf = []\n",
    "for i in range(1, 74):\n",
    "    inf.append(6 * i - 1)\n",
    "    \n",
    "print(inf, len(inf))"
   ],
   "metadata": {
    "collapsed": false,
    "ExecuteTime": {
     "end_time": "2023-08-29T18:35:54.170867700Z",
     "start_time": "2023-08-29T18:35:54.131588800Z"
    }
   },
   "id": "69afd34a0df6cb38"
  },
  {
   "cell_type": "code",
   "execution_count": 51,
   "outputs": [
    {
     "name": "stdout",
     "output_type": "stream",
     "text": [
      "[7, 13, 19, 25, 31, 37, 43, 49, 55, 61, 67, 73, 79, 85, 91, 97, 103, 109, 115, 121, 127, 133, 139, 145, 151, 157, 163, 169, 175, 181, 187, 193, 199, 205, 211, 217, 223, 229, 235, 241, 247, 253, 259, 265, 271, 277, 283, 289, 295, 301, 307, 313, 319, 325, 331, 337, 343, 349, 355, 361, 367, 373, 379, 385, 391, 397, 403, 409, 415, 421, 427, 433, 439] 73\n"
     ]
    }
   ],
   "source": [
    "inf = []\n",
    "for i in range(1, 74):\n",
    "    inf.append(6 * i + 1)\n",
    "\n",
    "print(inf, len(inf))"
   ],
   "metadata": {
    "collapsed": false,
    "ExecuteTime": {
     "end_time": "2023-08-29T21:51:35.669656400Z",
     "start_time": "2023-08-29T21:51:35.632053Z"
    }
   },
   "id": "e989cced2d08c0ef"
  },
  {
   "cell_type": "code",
   "execution_count": 53,
   "outputs": [
    {
     "data": {
      "text/plain": "52"
     },
     "execution_count": 53,
     "metadata": {},
     "output_type": "execute_result"
    }
   ],
   "source": [
    "73 - 21"
   ],
   "metadata": {
    "collapsed": false,
    "ExecuteTime": {
     "end_time": "2023-08-29T21:52:50.706323100Z",
     "start_time": "2023-08-29T21:52:50.671326500Z"
    }
   },
   "id": "fd655223b64e6d4e"
  },
  {
   "cell_type": "markdown",
   "source": [
    "new insights:\n",
    "we maybe are able to use column vector and row vector to recognize the position\n",
    "p is known, if we we know its diffrent with table position we can effiecently calculate factors\n",
    "observed that every notprimed number in each row wich is part of the column leader wich is is an squared prime\n",
    "exactly has the same amount of sentences wich is n - 1 number of rows.\n",
    "each rows respond to particular column, so it might be able to help us to find position.\n",
    "if any number that can be described as 6n +- 1 isnt in the table, so they are prime.\n",
    "because the last number of each row crroespond to prime squared, and its rows number is known, we mmight be able to \n",
    "calculate this way.. "
   ],
   "metadata": {
    "collapsed": false
   },
   "id": "fa92e1cd5aa4d178"
  },
  {
   "cell_type": "markdown",
   "source": [
    "It's time! Previously, we discussed integer factorization. The obvious are factors of the 2 and 3, so I skip those. Our intuition would be about numbers of the forms \"6n + 1\" and \"6n -1\", more precisely first of the two. It is more convenient to ask you for some test cases first. Please provide at least five random numbers generated from the 6n + 1 and have at least a magnitude of 16 (in fact, it can be any arbitrary length), and I will find their factors in no time, provided they are not prime. or you can read for yourself from the following image."
   ],
   "metadata": {
    "collapsed": false
   },
   "id": "e9a28545238b30da"
  }
 ],
 "metadata": {
  "kernelspec": {
   "display_name": "Python 3",
   "language": "python",
   "name": "python3"
  },
  "language_info": {
   "codemirror_mode": {
    "name": "ipython",
    "version": 2
   },
   "file_extension": ".py",
   "mimetype": "text/x-python",
   "name": "python",
   "nbconvert_exporter": "python",
   "pygments_lexer": "ipython2",
   "version": "2.7.6"
  }
 },
 "nbformat": 4,
 "nbformat_minor": 5
}
